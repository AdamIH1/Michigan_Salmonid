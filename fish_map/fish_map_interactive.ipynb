{
 "cells": [
  {
   "cell_type": "code",
   "execution_count": 1,
   "metadata": {},
   "outputs": [],
   "source": [
    "\n",
    "# importing packages \n",
    "\n",
    "import pandas as pd \n",
    "import datetime\n",
    "import folium\n",
    "from folium.plugins import MarkerCluster\n",
    "from ipywidgets import interact\n"
   ]
  },
  {
   "cell_type": "code",
   "execution_count": 2,
   "metadata": {},
   "outputs": [],
   "source": [
    "# importing data \n",
    "\n",
    "steelhead_ = pd.read_csv('Steelhead.csv')\n",
    "\n",
    "atlantic_sal_ = pd.read_csv('Atlantic_salmon.csv')\n",
    "\n",
    "chinook_sal_ = pd.read_csv('Chinook_salmon.csv')\n",
    "\n",
    "coho_sal_ = pd.read_csv('Coho_salmon.csv')\n",
    "\n",
    "lake_trout_ = pd.read_csv('Lake_trout.csv')\n",
    "\n",
    "location = pd.read_csv('MI_County_Lat_Lng.csv')\n"
   ]
  },
  {
   "cell_type": "code",
   "execution_count": 3,
   "metadata": {},
   "outputs": [
    {
     "data": {
      "text/plain": [
       "County                       0\n",
       "Water Body                1577\n",
       "Site Name                    0\n",
       "Town                      1577\n",
       "Range                     1577\n",
       "Section                   1577\n",
       "Species                      0\n",
       "Strain                     608\n",
       "Date                         0\n",
       "Number                       0\n",
       "Avg. Length                  0\n",
       "Operation                    0\n",
       "Fin Clips, Marks, Tags       0\n",
       "dtype: int64"
      ]
     },
     "execution_count": 3,
     "metadata": {},
     "output_type": "execute_result"
    }
   ],
   "source": [
    "\n",
    "# couting na values \n",
    "\n",
    "steelhead_.isna().sum()\n",
    "\n",
    "atlantic_sal_.isna().sum()\n",
    "\n",
    "chinook_sal_.isna().sum()\n",
    "\n",
    "coho_sal_.isna().sum()\n",
    "\n",
    "lake_trout_.isna().sum()\n"
   ]
  },
  {
   "cell_type": "code",
   "execution_count": 4,
   "metadata": {},
   "outputs": [],
   "source": [
    "\n",
    "# cleaning the data \n",
    "\n",
    "# updating two counties for location \n",
    "\n",
    "location.replace(\"St. Clair\", \"Saint Clair\", inplace=True) \n",
    "location.replace(\"St. Joseph\", \"Saint Joseph\", inplace=True) \n",
    "\n",
    "# dropping not needed colums \n",
    "\n",
    "location = location.drop(['County_full', 'State_id', 'State_name'], axis=1)\n",
    "\n",
    "# the below colums are currently not being used and contain all the na values \n",
    "steelhead = steelhead_.drop(['Water Body', 'Range','Town', 'Section', 'Strain'], axis=1)\n",
    "atlantic_sal = atlantic_sal_.drop(['Water Body', 'Range','Town', 'Section', 'Strain'], axis=1)\n",
    "chinook_sal = chinook_sal_.drop(['Water Body', 'Range','Town', 'Section', 'Strain'], axis=1)\n",
    "coho_sal = coho_sal_.drop(['Water Body', 'Range','Town', 'Section', 'Strain'], axis=1)\n",
    "lake_trout = lake_trout_.drop(['Water Body', 'Range','Town', 'Section', 'Strain'], axis=1)\n",
    "\n",
    "\n",
    "# steelhead.isna().sum()\n",
    "\n",
    "# atlantic_sal.isna().sum()\n",
    "\n",
    "# chinook_sal.isna().sum()\n",
    "\n",
    "# coho_sal.isna().sum()\n",
    "\n",
    "# lake_trout.isna().sum()\n"
   ]
  },
  {
   "cell_type": "code",
   "execution_count": 5,
   "metadata": {},
   "outputs": [],
   "source": [
    "%%capture --no-display\n",
    "## stops the display of pandas warning, does not effect output\n",
    "\n",
    "# seperating date to year and month\n",
    "\n",
    "steelhead['Date_ydm'] = pd.to_datetime(steelhead['Date'])\n",
    "steelhead['Year'], steelhead['Month'] = steelhead['Date_ydm'].dt.year, steelhead['Date_ydm'].dt.month\n",
    "\n",
    "atlantic_sal['Date_ydm'] = pd.to_datetime(atlantic_sal['Date'])\n",
    "atlantic_sal['Year'], atlantic_sal['Month'] = atlantic_sal['Date_ydm'].dt.year, atlantic_sal['Date_ydm'].dt.month\n",
    "\n",
    "chinook_sal['Date_ydm'] = pd.to_datetime(chinook_sal['Date'])\n",
    "chinook_sal['Year'], chinook_sal['Month'] = chinook_sal['Date_ydm'].dt.year,chinook_sal['Date_ydm'].dt.month\n",
    "\n",
    "coho_sal['Date_ydm'] = pd.to_datetime(coho_sal['Date'])\n",
    "coho_sal['Year'], coho_sal['Month'] = coho_sal['Date_ydm'].dt.year, coho_sal['Date_ydm'].dt.month\n",
    "\n",
    "lake_trout['Date_ydm'] = pd.to_datetime(lake_trout['Date'])\n",
    "lake_trout['Year'], lake_trout['Month'] = lake_trout['Date_ydm'].dt.year, lake_trout['Date_ydm'].dt.month\n"
   ]
  },
  {
   "cell_type": "code",
   "execution_count": 6,
   "metadata": {},
   "outputs": [],
   "source": [
    "\n",
    "# joining location to fish stocking data \n",
    "\n",
    "steelhead = pd.merge(steelhead, location, on='County', how='left')\n",
    "atlantic_sal = pd.merge(atlantic_sal, location, on='County', how='left')\n",
    "chinook_sal = pd.merge(chinook_sal, location, on='County', how='left')\n",
    "coho_sal = pd.merge(coho_sal, location, on='County', how='left')\n",
    "lake_trout = pd.merge(lake_trout, location, on='County', how='left')\n"
   ]
  },
  {
   "cell_type": "code",
   "execution_count": 7,
   "metadata": {},
   "outputs": [],
   "source": [
    "\n",
    "# one big data frame of all fish data \n",
    "\n",
    "frames = [steelhead, atlantic_sal, chinook_sal, coho_sal, lake_trout]\n",
    "\n",
    "all_fish = pd.concat(frames)\n",
    "\n"
   ]
  },
  {
   "cell_type": "code",
   "execution_count": 8,
   "metadata": {},
   "outputs": [
    {
     "data": {
      "text/html": [
       "<div style=\"width:100%;\"><div style=\"position:relative;width:100%;height:0;padding-bottom:60%;\"><span style=\"color:#565656\">Make this Notebook Trusted to load map: File -> Trust Notebook</span><iframe src=\"about:blank\" style=\"position:absolute;width:100%;height:100%;left:0;top:0;border:none !important;\" data-html=PCFET0NUWVBFIGh0bWw+CjxoZWFkPiAgICAKICAgIDxtZXRhIGh0dHAtZXF1aXY9ImNvbnRlbnQtdHlwZSIgY29udGVudD0idGV4dC9odG1sOyBjaGFyc2V0PVVURi04IiAvPgogICAgCiAgICAgICAgPHNjcmlwdD4KICAgICAgICAgICAgTF9OT19UT1VDSCA9IGZhbHNlOwogICAgICAgICAgICBMX0RJU0FCTEVfM0QgPSBmYWxzZTsKICAgICAgICA8L3NjcmlwdD4KICAgIAogICAgPHNjcmlwdCBzcmM9Imh0dHBzOi8vY2RuLmpzZGVsaXZyLm5ldC9ucG0vbGVhZmxldEAxLjYuMC9kaXN0L2xlYWZsZXQuanMiPjwvc2NyaXB0PgogICAgPHNjcmlwdCBzcmM9Imh0dHBzOi8vY29kZS5qcXVlcnkuY29tL2pxdWVyeS0xLjEyLjQubWluLmpzIj48L3NjcmlwdD4KICAgIDxzY3JpcHQgc3JjPSJodHRwczovL21heGNkbi5ib290c3RyYXBjZG4uY29tL2Jvb3RzdHJhcC8zLjIuMC9qcy9ib290c3RyYXAubWluLmpzIj48L3NjcmlwdD4KICAgIDxzY3JpcHQgc3JjPSJodHRwczovL2NkbmpzLmNsb3VkZmxhcmUuY29tL2FqYXgvbGlicy9MZWFmbGV0LmF3ZXNvbWUtbWFya2Vycy8yLjAuMi9sZWFmbGV0LmF3ZXNvbWUtbWFya2Vycy5qcyI+PC9zY3JpcHQ+CiAgICA8bGluayByZWw9InN0eWxlc2hlZXQiIGhyZWY9Imh0dHBzOi8vY2RuLmpzZGVsaXZyLm5ldC9ucG0vbGVhZmxldEAxLjYuMC9kaXN0L2xlYWZsZXQuY3NzIi8+CiAgICA8bGluayByZWw9InN0eWxlc2hlZXQiIGhyZWY9Imh0dHBzOi8vbWF4Y2RuLmJvb3RzdHJhcGNkbi5jb20vYm9vdHN0cmFwLzMuMi4wL2Nzcy9ib290c3RyYXAubWluLmNzcyIvPgogICAgPGxpbmsgcmVsPSJzdHlsZXNoZWV0IiBocmVmPSJodHRwczovL21heGNkbi5ib290c3RyYXBjZG4uY29tL2Jvb3RzdHJhcC8zLjIuMC9jc3MvYm9vdHN0cmFwLXRoZW1lLm1pbi5jc3MiLz4KICAgIDxsaW5rIHJlbD0ic3R5bGVzaGVldCIgaHJlZj0iaHR0cHM6Ly9tYXhjZG4uYm9vdHN0cmFwY2RuLmNvbS9mb250LWF3ZXNvbWUvNC42LjMvY3NzL2ZvbnQtYXdlc29tZS5taW4uY3NzIi8+CiAgICA8bGluayByZWw9InN0eWxlc2hlZXQiIGhyZWY9Imh0dHBzOi8vY2RuanMuY2xvdWRmbGFyZS5jb20vYWpheC9saWJzL0xlYWZsZXQuYXdlc29tZS1tYXJrZXJzLzIuMC4yL2xlYWZsZXQuYXdlc29tZS1tYXJrZXJzLmNzcyIvPgogICAgPGxpbmsgcmVsPSJzdHlsZXNoZWV0IiBocmVmPSJodHRwczovL3Jhd2Nkbi5naXRoYWNrLmNvbS9weXRob24tdmlzdWFsaXphdGlvbi9mb2xpdW0vbWFzdGVyL2ZvbGl1bS90ZW1wbGF0ZXMvbGVhZmxldC5hd2Vzb21lLnJvdGF0ZS5jc3MiLz4KICAgIDxzdHlsZT5odG1sLCBib2R5IHt3aWR0aDogMTAwJTtoZWlnaHQ6IDEwMCU7bWFyZ2luOiAwO3BhZGRpbmc6IDA7fTwvc3R5bGU+CiAgICA8c3R5bGU+I21hcCB7cG9zaXRpb246YWJzb2x1dGU7dG9wOjA7Ym90dG9tOjA7cmlnaHQ6MDtsZWZ0OjA7fTwvc3R5bGU+CiAgICAKICAgICAgICAgICAgPG1ldGEgbmFtZT0idmlld3BvcnQiIGNvbnRlbnQ9IndpZHRoPWRldmljZS13aWR0aCwKICAgICAgICAgICAgICAgIGluaXRpYWwtc2NhbGU9MS4wLCBtYXhpbXVtLXNjYWxlPTEuMCwgdXNlci1zY2FsYWJsZT1ubyIgLz4KICAgICAgICAgICAgPHN0eWxlPgogICAgICAgICAgICAgICAgI21hcF84Yjg0M2IzZGI4NTI0NDM4OTVjMWI0M2QxODk3MDZmNiB7CiAgICAgICAgICAgICAgICAgICAgcG9zaXRpb246IHJlbGF0aXZlOwogICAgICAgICAgICAgICAgICAgIHdpZHRoOiAxMDAuMCU7CiAgICAgICAgICAgICAgICAgICAgaGVpZ2h0OiAxMDAuMCU7CiAgICAgICAgICAgICAgICAgICAgbGVmdDogMC4wJTsKICAgICAgICAgICAgICAgICAgICB0b3A6IDAuMCU7CiAgICAgICAgICAgICAgICB9CiAgICAgICAgICAgIDwvc3R5bGU+CiAgICAgICAgCjwvaGVhZD4KPGJvZHk+ICAgIAogICAgCiAgICAgICAgICAgIDxkaXYgY2xhc3M9ImZvbGl1bS1tYXAiIGlkPSJtYXBfOGI4NDNiM2RiODUyNDQzODk1YzFiNDNkMTg5NzA2ZjYiID48L2Rpdj4KICAgICAgICAKPC9ib2R5Pgo8c2NyaXB0PiAgICAKICAgIAogICAgICAgICAgICB2YXIgbWFwXzhiODQzYjNkYjg1MjQ0Mzg5NWMxYjQzZDE4OTcwNmY2ID0gTC5tYXAoCiAgICAgICAgICAgICAgICAibWFwXzhiODQzYjNkYjg1MjQ0Mzg5NWMxYjQzZDE4OTcwNmY2IiwKICAgICAgICAgICAgICAgIHsKICAgICAgICAgICAgICAgICAgICBjZW50ZXI6IFs0NC4zMTQ4LCAtODUuNjAyNF0sCiAgICAgICAgICAgICAgICAgICAgY3JzOiBMLkNSUy5FUFNHMzg1NywKICAgICAgICAgICAgICAgICAgICB6b29tOiA2LAogICAgICAgICAgICAgICAgICAgIHpvb21Db250cm9sOiB0cnVlLAogICAgICAgICAgICAgICAgICAgIHByZWZlckNhbnZhczogZmFsc2UsCiAgICAgICAgICAgICAgICB9CiAgICAgICAgICAgICk7CgogICAgICAgICAgICAKCiAgICAgICAgCiAgICAKICAgICAgICAgICAgdmFyIHRpbGVfbGF5ZXJfZGE5YmQ2ODI3ZTM0NDE3NDhhZjQwNGQxMmNmYTMwY2UgPSBMLnRpbGVMYXllcigKICAgICAgICAgICAgICAgICJodHRwczovL3tzfS50aWxlLm9wZW5zdHJlZXRtYXAub3JnL3t6fS97eH0ve3l9LnBuZyIsCiAgICAgICAgICAgICAgICB7ImF0dHJpYnV0aW9uIjogIkRhdGEgYnkgXHUwMDI2Y29weTsgXHUwMDNjYSBocmVmPVwiaHR0cDovL29wZW5zdHJlZXRtYXAub3JnXCJcdTAwM2VPcGVuU3RyZWV0TWFwXHUwMDNjL2FcdTAwM2UsIHVuZGVyIFx1MDAzY2EgaHJlZj1cImh0dHA6Ly93d3cub3BlbnN0cmVldG1hcC5vcmcvY29weXJpZ2h0XCJcdTAwM2VPRGJMXHUwMDNjL2FcdTAwM2UuIiwgImRldGVjdFJldGluYSI6IGZhbHNlLCAibWF4TmF0aXZlWm9vbSI6IDE4LCAibWF4Wm9vbSI6IDE4LCAibWluWm9vbSI6IDAsICJub1dyYXAiOiBmYWxzZSwgIm9wYWNpdHkiOiAxLCAic3ViZG9tYWlucyI6ICJhYmMiLCAidG1zIjogZmFsc2V9CiAgICAgICAgICAgICkuYWRkVG8obWFwXzhiODQzYjNkYjg1MjQ0Mzg5NWMxYjQzZDE4OTcwNmY2KTsKICAgICAgICAKPC9zY3JpcHQ+ onload=\"this.contentDocument.open();this.contentDocument.write(atob(this.getAttribute('data-html')));this.contentDocument.close();\" allowfullscreen webkitallowfullscreen mozallowfullscreen></iframe></div></div>"
      ],
      "text/plain": [
       "<folium.folium.Map at 0x1157ca390>"
      ]
     },
     "execution_count": 8,
     "metadata": {},
     "output_type": "execute_result"
    }
   ],
   "source": [
    "\n",
    "# map of michigan \n",
    "\n",
    "mi_map = folium.Map(\n",
    "    location = [44.3148, -85.6024], \n",
    "    zoom_start = 6)\n",
    "\n",
    "mi_map    \n"
   ]
  },
  {
   "cell_type": "code",
   "execution_count": 9,
   "metadata": {},
   "outputs": [],
   "source": [
    "\n",
    "def fish_map_all(fish_type, year): \n",
    "    \n",
    "    fish = all_fish[all_fish[\"Year\"] == year] \n",
    "    fish = fish[fish[\"Species\"] == fish_type]\n",
    "    \n",
    "    mi_map = folium.Map(\n",
    "    location = [44.3148, -85.6024], \n",
    "    zoom_start = 6)\n",
    "    \n",
    "    for _, city in fish.iterrows(): \n",
    "        folium.Marker(\n",
    "        location = [city['Lat'], city['Ing']],\n",
    "        popup = city['County'], \n",
    "        tooltip = city['County']).add_to(mi_map)\n",
    "    \n",
    "    return mi_map\n"
   ]
  },
  {
   "cell_type": "code",
   "execution_count": 10,
   "metadata": {
    "scrolled": false
   },
   "outputs": [
    {
     "data": {
      "application/vnd.jupyter.widget-view+json": {
       "model_id": "b8936c311acf4b509bc5a0c98c949882",
       "version_major": 2,
       "version_minor": 0
      },
      "text/plain": [
       "interactive(children=(Dropdown(description='fish_type', options=('Rainbow trout', 'Atlantic salmon', 'Chinook …"
      ]
     },
     "metadata": {},
     "output_type": "display_data"
    },
    {
     "data": {
      "text/plain": [
       "<function __main__.fish_map_all(fish_type, year)>"
      ]
     },
     "execution_count": 10,
     "metadata": {},
     "output_type": "execute_result"
    }
   ],
   "source": [
    "\n",
    "unique_fish = all_fish.Species.unique()\n",
    "\n",
    "map_fish = interact(fish_map_all, fish_type = unique_fish, year = (all_fish.Year.min(),all_fish.Year.max()))\n",
    "\n",
    "\n",
    "map_fish \n"
   ]
  }
 ],
 "metadata": {
  "kernelspec": {
   "display_name": "Python 3 (ipykernel)",
   "language": "python",
   "name": "python3"
  },
  "language_info": {
   "codemirror_mode": {
    "name": "ipython",
    "version": 3
   },
   "file_extension": ".py",
   "mimetype": "text/x-python",
   "name": "python",
   "nbconvert_exporter": "python",
   "pygments_lexer": "ipython3",
   "version": "3.9.7"
  }
 },
 "nbformat": 4,
 "nbformat_minor": 2
}
